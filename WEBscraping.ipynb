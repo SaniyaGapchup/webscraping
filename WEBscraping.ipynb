{
  "cells": [
    {
      "cell_type": "markdown",
      "metadata": {
        "id": "view-in-github",
        "colab_type": "text"
      },
      "source": [
        "<a href=\"https://colab.research.google.com/github/SaniyaGapchup/webscraping/blob/main/WEBscraping.ipynb\" target=\"_parent\"><img src=\"https://colab.research.google.com/assets/colab-badge.svg\" alt=\"Open In Colab\"/></a>"
      ]
    },
    {
      "cell_type": "code",
      "execution_count": null,
      "id": "95e2616e",
      "metadata": {
        "id": "95e2616e",
        "outputId": "964a8813-c669-413d-c5a5-ffd73bd4ac7f"
      },
      "outputs": [
        {
          "name": "stdout",
          "output_type": "stream",
          "text": [
            "Requirement already satisfied: autoscraper in c:\\users\\saniya\\anaconda3\\lib\\site-packages (1.1.14)\n",
            "Requirement already satisfied: lxml in c:\\users\\saniya\\anaconda3\\lib\\site-packages (from autoscraper) (4.6.3)\n",
            "Requirement already satisfied: requests in c:\\users\\saniya\\anaconda3\\lib\\site-packages (from autoscraper) (2.25.1)\n",
            "Requirement already satisfied: bs4 in c:\\users\\saniya\\anaconda3\\lib\\site-packages (from autoscraper) (0.0.1)\n",
            "Requirement already satisfied: beautifulsoup4 in c:\\users\\saniya\\anaconda3\\lib\\site-packages (from bs4->autoscraper) (4.9.3)\n",
            "Requirement already satisfied: soupsieve>1.2 in c:\\users\\saniya\\anaconda3\\lib\\site-packages (from beautifulsoup4->bs4->autoscraper) (2.2.1)\n",
            "Requirement already satisfied: chardet<5,>=3.0.2 in c:\\users\\saniya\\anaconda3\\lib\\site-packages (from requests->autoscraper) (4.0.0)\n",
            "Requirement already satisfied: idna<3,>=2.5 in c:\\users\\saniya\\anaconda3\\lib\\site-packages (from requests->autoscraper) (2.10)\n",
            "Requirement already satisfied: urllib3<1.27,>=1.21.1 in c:\\users\\saniya\\anaconda3\\lib\\site-packages (from requests->autoscraper) (1.26.4)\n",
            "Requirement already satisfied: certifi>=2017.4.17 in c:\\users\\saniya\\anaconda3\\lib\\site-packages (from requests->autoscraper) (2020.12.5)\n"
          ]
        }
      ],
      "source": [
        "!pip install autoscraper"
      ]
    },
    {
      "cell_type": "code",
      "execution_count": null,
      "id": "6c6e1918",
      "metadata": {
        "id": "6c6e1918"
      },
      "outputs": [],
      "source": [
        "from autoscraper import AutoScraper"
      ]
    },
    {
      "cell_type": "code",
      "execution_count": null,
      "id": "71823763",
      "metadata": {
        "id": "71823763"
      },
      "outputs": [],
      "source": [
        "url = 'https://www.amazon.in/s?k=bags&crid=2M096C61O4MLT&qid=1653308124&sprefix=ba%2Caps%2C283&ref=sr_pg_1'\n",
        "\n",
        "wanted_list = [\" ₹841 \", \"HEROZ Harbour Unisex Nylon 28 L Travel Laptop Backpack Water Resistant Slim Durable Fits Up to 15.6 Inch Laptop Notebook (153-ALL) (Air Force Blue)\",\" 6,372\"]"
      ]
    },
    {
      "cell_type": "code",
      "execution_count": null,
      "id": "b012f054",
      "metadata": {
        "id": "b012f054",
        "outputId": "e1839638-6cd5-474f-b152-fe41890c5298"
      },
      "outputs": [
        {
          "name": "stdout",
          "output_type": "stream",
          "text": [
            "['₹1,358', '₹2,669', '₹1,221', '₹2,399', '₹699', '₹1,799', '₹1,499', '₹3,200', '₹841', '₹2,064', '₹749', '₹1,999', 'Cosmus Vogue Casual Laptop Backpack with USB Charger Port 46cm 26 Litre Maroon College Bag', 'COSMUS WEBSTAR 45 CM LAPTOP BACKPACK 35 LTRS LARGE SCHOOL BAG / TRAVEL BAGPACK (NAVY)', 'Genie Flamenco2 Casual Backpacks for Women', 'HEROZ Hammer Unisex Nylon 45 L Travel Laptop Backpack Water Resistant Slim Durable Fits Up to 17.3 Inch Laptop Notebook (All) (Grey & Black)', 'HEROZ Harbour Unisex Nylon 28 L Travel Laptop Backpack Water Resistant Slim Durable Fits Up to 15.6 Inch Laptop Notebook (153-ALL) (Air Force Blue)', 'Stylbase Waterproof Laptop Bag/Office Bag/School Bag/business bag/Unisex Travel Bag 35 L Laptop Backpack With Rain cover.', '1,300', '748', '1,170', '7,423', '6,372', '18']\n"
          ]
        }
      ],
      "source": [
        "scraper = AutoScraper()\n",
        "result = scraper.build(url, wanted_list)\n",
        "print(result)"
      ]
    },
    {
      "cell_type": "code",
      "execution_count": null,
      "id": "e1c61327",
      "metadata": {
        "scrolled": true,
        "id": "e1c61327",
        "outputId": "a675122c-4740-4ec7-b1b7-10f78c674c48"
      },
      "outputs": [
        {
          "data": {
            "text/plain": [
              "{'rule_4np5': ['₹1,358',\n",
              "  '₹2,669',\n",
              "  '₹1,221',\n",
              "  '₹2,399',\n",
              "  '₹699',\n",
              "  '₹1,799',\n",
              "  '₹1,499',\n",
              "  '₹3,200',\n",
              "  '₹841',\n",
              "  '₹2,064',\n",
              "  '₹1,563',\n",
              "  '₹2,899'],\n",
              " 'rule_bktj': ['₹1,358',\n",
              "  '₹2,669',\n",
              "  '₹1,221',\n",
              "  '₹2,399',\n",
              "  '₹699',\n",
              "  '₹1,799',\n",
              "  '₹1,499',\n",
              "  '₹3,200',\n",
              "  '₹841',\n",
              "  '₹2,064',\n",
              "  '₹1,563',\n",
              "  '₹2,899'],\n",
              " 'rule_8xr0': ['Cosmus Vogue Casual Laptop Backpack with USB Charger Port 46cm 26 Litre Maroon College Bag',\n",
              "  'COSMUS WEBSTAR 45 CM LAPTOP BACKPACK 35 LTRS LARGE SCHOOL BAG / TRAVEL BAGPACK (NAVY)',\n",
              "  'Genie Flamenco2 Casual Backpacks for Women',\n",
              "  'HEROZ Hammer Unisex Nylon 45 L Travel Laptop Backpack Water Resistant Slim Durable Fits Up to 17.3 Inch Laptop Notebook (All) (Grey & Black)',\n",
              "  'HEROZ Harbour Unisex Nylon 28 L Travel Laptop Backpack Water Resistant Slim Durable Fits Up to 15.6 Inch Laptop Notebook (153-ALL) (Air Force Blue)',\n",
              "  'Cosmus Sliden 38L Laptop Backpack With 2 Compartments'],\n",
              " 'rule_bvoo': ['1,300', '748', '1,170', '7,423', '6,372', '101']}"
            ]
          },
          "execution_count": 38,
          "metadata": {},
          "output_type": "execute_result"
        }
      ],
      "source": [
        "scraper.get_result_similar('https://www.amazon.in/s?k=bags&crid=2M096C61O4MLT&qid=1653308124&sprefix=ba%2Caps%2C283&ref=sr_pg_1', grouped = True)"
      ]
    },
    {
      "cell_type": "code",
      "execution_count": null,
      "id": "3a33b531",
      "metadata": {
        "id": "3a33b531"
      },
      "outputs": [],
      "source": [
        "scraper.set_rule_aliases({'rule_8xr0': 'Title', 'rule_4np5' : 'Price', 'rule_bvoo':'Rating' })\n",
        "scraper.keep_rules(['rule_8xr0','rule_4np5', 'rule_bvoo'])\n",
        "scraper.save('amazon-search')"
      ]
    },
    {
      "cell_type": "code",
      "execution_count": null,
      "id": "27b5d8b8",
      "metadata": {
        "id": "27b5d8b8"
      },
      "outputs": [],
      "source": [
        "scraper.load('amazon-search')"
      ]
    },
    {
      "cell_type": "code",
      "execution_count": null,
      "id": "76a06651",
      "metadata": {
        "id": "76a06651"
      },
      "outputs": [],
      "source": [
        "import openpyxl"
      ]
    },
    {
      "cell_type": "code",
      "execution_count": null,
      "id": "61645f85",
      "metadata": {
        "id": "61645f85",
        "outputId": "89ef1772-fd94-42fc-8c8f-2f9bbe439195"
      },
      "outputs": [
        {
          "name": "stdout",
          "output_type": "stream",
          "text": [
            "['Sheet']\n",
            "['Amazon search']\n"
          ]
        }
      ],
      "source": [
        "excel = openpyxl.Workbook()\n",
        "print(excel.sheetnames)\n",
        "sheet = excel.active\n",
        "sheet.title = 'Amazon search'\n",
        "print(excel.sheetnames)\n",
        "\n",
        "sheet.append(['Title', 'Price', 'Rating'])\n",
        "\n"
      ]
    },
    {
      "cell_type": "code",
      "execution_count": null,
      "id": "132752ee",
      "metadata": {
        "id": "132752ee"
      },
      "outputs": [],
      "source": [
        "excel.save('Amazon Product details.xlsx')"
      ]
    },
    {
      "cell_type": "code",
      "execution_count": null,
      "id": "17856418",
      "metadata": {
        "id": "17856418"
      },
      "outputs": [],
      "source": []
    }
  ],
  "metadata": {
    "kernelspec": {
      "display_name": "Python 3.11.0 64-bit",
      "language": "python",
      "name": "python3"
    },
    "language_info": {
      "codemirror_mode": {
        "name": "ipython",
        "version": 3
      },
      "file_extension": ".py",
      "mimetype": "text/x-python",
      "name": "python",
      "nbconvert_exporter": "python",
      "pygments_lexer": "ipython3",
      "version": "3.11.0"
    },
    "vscode": {
      "interpreter": {
        "hash": "aa694bb7b5203e49c2828b3f15237ae2d6592a534b76e84cdf6a7a9e901357bc"
      }
    },
    "colab": {
      "provenance": [],
      "include_colab_link": true
    }
  },
  "nbformat": 4,
  "nbformat_minor": 5
}